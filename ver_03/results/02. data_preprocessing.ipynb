{
 "cells": [
  {
   "cell_type": "markdown",
   "metadata": {},
   "source": [
    "# Data pre-processing & Save data"
   ]
  },
  {
   "cell_type": "code",
   "execution_count": 1,
   "metadata": {
    "collapsed": true
   },
   "outputs": [],
   "source": [
    "import pandas as pd\n",
    "import numpy as np\n",
    "import matplotlib.pyplot as plt\n",
    "%matplotlib notebook\n",
    "import seaborn as sns\n",
    "\n",
    "import sys\n",
    "sys.path.insert(0, '/Users/JH/Documents/GitHub/PowerForecast/ver_03/util')\n",
    "import app as ap\n",
    "import os.path"
   ]
  },
  {
   "cell_type": "code",
   "execution_count": 2,
   "metadata": {
    "collapsed": true
   },
   "outputs": [],
   "source": [
    "load_data = ap.ReadCSV.load()\n",
    "area_names = sorted(load_data.iterkeys())\n",
    "selected_list = [0, 1, 2, 3, 4, 5, 7]\n",
    "\n",
    "weather_data = ap.ReadCSV.weather()"
   ]
  },
  {
   "cell_type": "code",
   "execution_count": 3,
   "metadata": {
    "collapsed": true
   },
   "outputs": [],
   "source": [
    "load_norm = dict()\n",
    "for idx in xrange(0, len(selected_list)):\n",
    "    area = area_names[selected_list[idx]]\n",
    "    load_norm[area] = ap.Preprocess.normalization_load_data(load_data[area])"
   ]
  },
  {
   "cell_type": "code",
   "execution_count": 4,
   "metadata": {},
   "outputs": [
    {
     "name": "stderr",
     "output_type": "stream",
     "text": [
      "/Users/JH/anaconda2/lib/python2.7/site-packages/sklearn/utils/validation.py:429: DataConversionWarning: Data with input dtype object was converted to float64 by the scale function.\n",
      "  warnings.warn(msg, _DataConversionWarning)\n"
     ]
    }
   ],
   "source": [
    "weather_norm = ap.Preprocess.normalization_weather_data(weather_data)"
   ]
  },
  {
   "cell_type": "code",
   "execution_count": 5,
   "metadata": {},
   "outputs": [
    {
     "data": {
      "text/plain": [
       "7"
      ]
     },
     "execution_count": 5,
     "metadata": {},
     "output_type": "execute_result"
    }
   ],
   "source": [
    "len(selected_list)"
   ]
  },
  {
   "cell_type": "code",
   "execution_count": 6,
   "metadata": {},
   "outputs": [
    {
     "data": {
      "text/plain": [
       "[0, 1, 2, 3, 4, 5, 7]"
      ]
     },
     "execution_count": 6,
     "metadata": {},
     "output_type": "execute_result"
    }
   ],
   "source": [
    "selected_list"
   ]
  },
  {
   "cell_type": "code",
   "execution_count": null,
   "metadata": {
    "collapsed": true
   },
   "outputs": [],
   "source": []
  },
  {
   "cell_type": "code",
   "execution_count": 8,
   "metadata": {},
   "outputs": [
    {
     "name": "stdout",
     "output_type": "stream",
     "text": [
      "saved files list :\n",
      "  /Users/JH/Documents/GitHub/PowerForecast/ver_03/data/input_vector/ACTEWAGL/day/1/train_d.csv\n",
      "  /Users/JH/Documents/GitHub/PowerForecast/ver_03/data/input_vector/ACTEWAGL/day/1/test_d.csv\n",
      "  /Users/JH/Documents/GitHub/PowerForecast/ver_03/data/input_vector/ACTEWAGL/day/2/train_d.csv\n",
      "  /Users/JH/Documents/GitHub/PowerForecast/ver_03/data/input_vector/ACTEWAGL/day/2/test_d.csv\n",
      "  /Users/JH/Documents/GitHub/PowerForecast/ver_03/data/input_vector/ACTEWAGL/day/3/train_d.csv\n",
      "  /Users/JH/Documents/GitHub/PowerForecast/ver_03/data/input_vector/ACTEWAGL/day/3/test_d.csv\n",
      "  /Users/JH/Documents/GitHub/PowerForecast/ver_03/data/input_vector/ACTEWAGL/day/4/train_d.csv\n",
      "  /Users/JH/Documents/GitHub/PowerForecast/ver_03/data/input_vector/ACTEWAGL/day/4/test_d.csv\n",
      "  /Users/JH/Documents/GitHub/PowerForecast/ver_03/data/input_vector/ACTEWAGL/day/5/train_d.csv\n",
      "  /Users/JH/Documents/GitHub/PowerForecast/ver_03/data/input_vector/ACTEWAGL/day/5/test_d.csv\n",
      "  /Users/JH/Documents/GitHub/PowerForecast/ver_03/data/input_vector/ACTEWAGL/day/6/train_d.csv\n",
      "  /Users/JH/Documents/GitHub/PowerForecast/ver_03/data/input_vector/ACTEWAGL/day/6/test_d.csv\n",
      "  /Users/JH/Documents/GitHub/PowerForecast/ver_03/data/input_vector/ACTEWAGL/day/7/train_d.csv\n",
      "  /Users/JH/Documents/GitHub/PowerForecast/ver_03/data/input_vector/ACTEWAGL/day/7/test_d.csv\n",
      "  /Users/JH/Documents/GitHub/PowerForecast/ver_03/data/input_vector/ACTEWAGL/week/1/train_w.csv\n",
      "  /Users/JH/Documents/GitHub/PowerForecast/ver_03/data/input_vector/ACTEWAGL/week/1/test_w.csv\n",
      "  /Users/JH/Documents/GitHub/PowerForecast/ver_03/data/input_vector/ACTEWAGL/week/2/train_w.csv\n",
      "  /Users/JH/Documents/GitHub/PowerForecast/ver_03/data/input_vector/ACTEWAGL/week/2/test_w.csv\n",
      "  /Users/JH/Documents/GitHub/PowerForecast/ver_03/data/input_vector/ACTEWAGL/week/3/train_w.csv\n",
      "  /Users/JH/Documents/GitHub/PowerForecast/ver_03/data/input_vector/ACTEWAGL/week/3/test_w.csv\n",
      "  /Users/JH/Documents/GitHub/PowerForecast/ver_03/data/input_vector/ACTEWAGL/week/4/train_w.csv\n",
      "  /Users/JH/Documents/GitHub/PowerForecast/ver_03/data/input_vector/ACTEWAGL/week/4/test_w.csv\n",
      "  /Users/JH/Documents/GitHub/PowerForecast/ver_03/data/input_vector/ACTEWAGL/week/5/train_w.csv\n",
      "  /Users/JH/Documents/GitHub/PowerForecast/ver_03/data/input_vector/ACTEWAGL/week/5/test_w.csv\n",
      "  /Users/JH/Documents/GitHub/PowerForecast/ver_03/data/input_vector/ACTEWAGL/week/6/train_w.csv\n",
      "  /Users/JH/Documents/GitHub/PowerForecast/ver_03/data/input_vector/ACTEWAGL/week/6/test_w.csv\n",
      "  /Users/JH/Documents/GitHub/PowerForecast/ver_03/data/input_vector/ACTEWAGL/week/7/train_w.csv\n",
      "  /Users/JH/Documents/GitHub/PowerForecast/ver_03/data/input_vector/ACTEWAGL/week/7/test_w.csv\n",
      "  /Users/JH/Documents/GitHub/PowerForecast/ver_03/data/input_vector/ACTEWAGL/day_week/1/train_dw.csv\n",
      "  /Users/JH/Documents/GitHub/PowerForecast/ver_03/data/input_vector/ACTEWAGL/day_week/1/test_dw.csv\n",
      "  /Users/JH/Documents/GitHub/PowerForecast/ver_03/data/input_vector/ACTEWAGL/day_week/2/train_dw.csv\n",
      "  /Users/JH/Documents/GitHub/PowerForecast/ver_03/data/input_vector/ACTEWAGL/day_week/2/test_dw.csv\n",
      "  /Users/JH/Documents/GitHub/PowerForecast/ver_03/data/input_vector/ACTEWAGL/day_week/3/train_dw.csv\n",
      "  /Users/JH/Documents/GitHub/PowerForecast/ver_03/data/input_vector/ACTEWAGL/day_week/3/test_dw.csv\n",
      "  /Users/JH/Documents/GitHub/PowerForecast/ver_03/data/input_vector/ACTEWAGL/day_week/4/train_dw.csv\n",
      "  /Users/JH/Documents/GitHub/PowerForecast/ver_03/data/input_vector/ACTEWAGL/day_week/4/test_dw.csv\n",
      "  /Users/JH/Documents/GitHub/PowerForecast/ver_03/data/input_vector/ACTEWAGL/day_week/5/train_dw.csv\n",
      "  /Users/JH/Documents/GitHub/PowerForecast/ver_03/data/input_vector/ACTEWAGL/day_week/5/test_dw.csv\n",
      "  /Users/JH/Documents/GitHub/PowerForecast/ver_03/data/input_vector/ACTEWAGL/day_week/6/train_dw.csv\n",
      "  /Users/JH/Documents/GitHub/PowerForecast/ver_03/data/input_vector/ACTEWAGL/day_week/6/test_dw.csv\n",
      "  /Users/JH/Documents/GitHub/PowerForecast/ver_03/data/input_vector/ACTEWAGL/day_week/7/train_dw.csv\n",
      "  /Users/JH/Documents/GitHub/PowerForecast/ver_03/data/input_vector/ACTEWAGL/day_week/7/test_dw.csv\n",
      "  /Users/JH/Documents/GitHub/PowerForecast/ver_03/data/input_vector/CITIPOWER/day/1/train_d.csv\n",
      "  /Users/JH/Documents/GitHub/PowerForecast/ver_03/data/input_vector/CITIPOWER/day/1/test_d.csv\n",
      "  /Users/JH/Documents/GitHub/PowerForecast/ver_03/data/input_vector/CITIPOWER/day/2/train_d.csv\n",
      "  /Users/JH/Documents/GitHub/PowerForecast/ver_03/data/input_vector/CITIPOWER/day/2/test_d.csv\n",
      "  /Users/JH/Documents/GitHub/PowerForecast/ver_03/data/input_vector/CITIPOWER/day/3/train_d.csv\n",
      "  /Users/JH/Documents/GitHub/PowerForecast/ver_03/data/input_vector/CITIPOWER/day/3/test_d.csv\n",
      "  /Users/JH/Documents/GitHub/PowerForecast/ver_03/data/input_vector/CITIPOWER/day/4/train_d.csv\n",
      "  /Users/JH/Documents/GitHub/PowerForecast/ver_03/data/input_vector/CITIPOWER/day/4/test_d.csv\n",
      "  /Users/JH/Documents/GitHub/PowerForecast/ver_03/data/input_vector/CITIPOWER/day/5/train_d.csv\n",
      "  /Users/JH/Documents/GitHub/PowerForecast/ver_03/data/input_vector/CITIPOWER/day/5/test_d.csv\n",
      "  /Users/JH/Documents/GitHub/PowerForecast/ver_03/data/input_vector/CITIPOWER/day/6/train_d.csv\n",
      "  /Users/JH/Documents/GitHub/PowerForecast/ver_03/data/input_vector/CITIPOWER/day/6/test_d.csv\n",
      "  /Users/JH/Documents/GitHub/PowerForecast/ver_03/data/input_vector/CITIPOWER/day/7/train_d.csv\n",
      "  /Users/JH/Documents/GitHub/PowerForecast/ver_03/data/input_vector/CITIPOWER/day/7/test_d.csv\n",
      "  /Users/JH/Documents/GitHub/PowerForecast/ver_03/data/input_vector/CITIPOWER/week/1/train_w.csv\n",
      "  /Users/JH/Documents/GitHub/PowerForecast/ver_03/data/input_vector/CITIPOWER/week/1/test_w.csv\n",
      "  /Users/JH/Documents/GitHub/PowerForecast/ver_03/data/input_vector/CITIPOWER/week/2/train_w.csv\n",
      "  /Users/JH/Documents/GitHub/PowerForecast/ver_03/data/input_vector/CITIPOWER/week/2/test_w.csv\n",
      "  /Users/JH/Documents/GitHub/PowerForecast/ver_03/data/input_vector/CITIPOWER/week/3/train_w.csv\n",
      "  /Users/JH/Documents/GitHub/PowerForecast/ver_03/data/input_vector/CITIPOWER/week/3/test_w.csv\n",
      "  /Users/JH/Documents/GitHub/PowerForecast/ver_03/data/input_vector/CITIPOWER/week/4/train_w.csv\n",
      "  /Users/JH/Documents/GitHub/PowerForecast/ver_03/data/input_vector/CITIPOWER/week/4/test_w.csv\n",
      "  /Users/JH/Documents/GitHub/PowerForecast/ver_03/data/input_vector/CITIPOWER/week/5/train_w.csv\n",
      "  /Users/JH/Documents/GitHub/PowerForecast/ver_03/data/input_vector/CITIPOWER/week/5/test_w.csv\n",
      "  /Users/JH/Documents/GitHub/PowerForecast/ver_03/data/input_vector/CITIPOWER/week/6/train_w.csv\n",
      "  /Users/JH/Documents/GitHub/PowerForecast/ver_03/data/input_vector/CITIPOWER/week/6/test_w.csv\n",
      "  /Users/JH/Documents/GitHub/PowerForecast/ver_03/data/input_vector/CITIPOWER/week/7/train_w.csv\n",
      "  /Users/JH/Documents/GitHub/PowerForecast/ver_03/data/input_vector/CITIPOWER/week/7/test_w.csv\n",
      "  /Users/JH/Documents/GitHub/PowerForecast/ver_03/data/input_vector/CITIPOWER/day_week/1/train_dw.csv\n",
      "  /Users/JH/Documents/GitHub/PowerForecast/ver_03/data/input_vector/CITIPOWER/day_week/1/test_dw.csv\n",
      "  /Users/JH/Documents/GitHub/PowerForecast/ver_03/data/input_vector/CITIPOWER/day_week/2/train_dw.csv\n",
      "  /Users/JH/Documents/GitHub/PowerForecast/ver_03/data/input_vector/CITIPOWER/day_week/2/test_dw.csv\n",
      "  /Users/JH/Documents/GitHub/PowerForecast/ver_03/data/input_vector/CITIPOWER/day_week/3/train_dw.csv\n",
      "  /Users/JH/Documents/GitHub/PowerForecast/ver_03/data/input_vector/CITIPOWER/day_week/3/test_dw.csv\n",
      "  /Users/JH/Documents/GitHub/PowerForecast/ver_03/data/input_vector/CITIPOWER/day_week/4/train_dw.csv\n",
      "  /Users/JH/Documents/GitHub/PowerForecast/ver_03/data/input_vector/CITIPOWER/day_week/4/test_dw.csv\n",
      "  /Users/JH/Documents/GitHub/PowerForecast/ver_03/data/input_vector/CITIPOWER/day_week/5/train_dw.csv\n",
      "  /Users/JH/Documents/GitHub/PowerForecast/ver_03/data/input_vector/CITIPOWER/day_week/5/test_dw.csv\n",
      "  /Users/JH/Documents/GitHub/PowerForecast/ver_03/data/input_vector/CITIPOWER/day_week/6/train_dw.csv\n",
      "  /Users/JH/Documents/GitHub/PowerForecast/ver_03/data/input_vector/CITIPOWER/day_week/6/test_dw.csv\n",
      "  /Users/JH/Documents/GitHub/PowerForecast/ver_03/data/input_vector/CITIPOWER/day_week/7/train_dw.csv\n",
      "  /Users/JH/Documents/GitHub/PowerForecast/ver_03/data/input_vector/CITIPOWER/day_week/7/test_dw.csv\n"
     ]
    },
    {
     "name": "stdout",
     "output_type": "stream",
     "text": [
      "  /Users/JH/Documents/GitHub/PowerForecast/ver_03/data/input_vector/COUNTRYENERGY/day/1/train_d.csv\n",
      "  /Users/JH/Documents/GitHub/PowerForecast/ver_03/data/input_vector/COUNTRYENERGY/day/1/test_d.csv\n",
      "  /Users/JH/Documents/GitHub/PowerForecast/ver_03/data/input_vector/COUNTRYENERGY/day/2/train_d.csv\n",
      "  /Users/JH/Documents/GitHub/PowerForecast/ver_03/data/input_vector/COUNTRYENERGY/day/2/test_d.csv\n",
      "  /Users/JH/Documents/GitHub/PowerForecast/ver_03/data/input_vector/COUNTRYENERGY/day/3/train_d.csv\n",
      "  /Users/JH/Documents/GitHub/PowerForecast/ver_03/data/input_vector/COUNTRYENERGY/day/3/test_d.csv\n",
      "  /Users/JH/Documents/GitHub/PowerForecast/ver_03/data/input_vector/COUNTRYENERGY/day/4/train_d.csv\n",
      "  /Users/JH/Documents/GitHub/PowerForecast/ver_03/data/input_vector/COUNTRYENERGY/day/4/test_d.csv\n",
      "  /Users/JH/Documents/GitHub/PowerForecast/ver_03/data/input_vector/COUNTRYENERGY/day/5/train_d.csv\n",
      "  /Users/JH/Documents/GitHub/PowerForecast/ver_03/data/input_vector/COUNTRYENERGY/day/5/test_d.csv\n",
      "  /Users/JH/Documents/GitHub/PowerForecast/ver_03/data/input_vector/COUNTRYENERGY/day/6/train_d.csv\n",
      "  /Users/JH/Documents/GitHub/PowerForecast/ver_03/data/input_vector/COUNTRYENERGY/day/6/test_d.csv\n",
      "  /Users/JH/Documents/GitHub/PowerForecast/ver_03/data/input_vector/COUNTRYENERGY/day/7/train_d.csv\n",
      "  /Users/JH/Documents/GitHub/PowerForecast/ver_03/data/input_vector/COUNTRYENERGY/day/7/test_d.csv\n",
      "  /Users/JH/Documents/GitHub/PowerForecast/ver_03/data/input_vector/COUNTRYENERGY/week/1/train_w.csv\n",
      "  /Users/JH/Documents/GitHub/PowerForecast/ver_03/data/input_vector/COUNTRYENERGY/week/1/test_w.csv\n",
      "  /Users/JH/Documents/GitHub/PowerForecast/ver_03/data/input_vector/COUNTRYENERGY/week/2/train_w.csv\n",
      "  /Users/JH/Documents/GitHub/PowerForecast/ver_03/data/input_vector/COUNTRYENERGY/week/2/test_w.csv\n",
      "  /Users/JH/Documents/GitHub/PowerForecast/ver_03/data/input_vector/COUNTRYENERGY/week/3/train_w.csv\n",
      "  /Users/JH/Documents/GitHub/PowerForecast/ver_03/data/input_vector/COUNTRYENERGY/week/3/test_w.csv\n",
      "  /Users/JH/Documents/GitHub/PowerForecast/ver_03/data/input_vector/COUNTRYENERGY/week/4/train_w.csv\n",
      "  /Users/JH/Documents/GitHub/PowerForecast/ver_03/data/input_vector/COUNTRYENERGY/week/4/test_w.csv\n",
      "  /Users/JH/Documents/GitHub/PowerForecast/ver_03/data/input_vector/COUNTRYENERGY/week/5/train_w.csv\n",
      "  /Users/JH/Documents/GitHub/PowerForecast/ver_03/data/input_vector/COUNTRYENERGY/week/5/test_w.csv\n",
      "  /Users/JH/Documents/GitHub/PowerForecast/ver_03/data/input_vector/COUNTRYENERGY/week/6/train_w.csv\n",
      "  /Users/JH/Documents/GitHub/PowerForecast/ver_03/data/input_vector/COUNTRYENERGY/week/6/test_w.csv\n",
      "  /Users/JH/Documents/GitHub/PowerForecast/ver_03/data/input_vector/COUNTRYENERGY/week/7/train_w.csv\n",
      "  /Users/JH/Documents/GitHub/PowerForecast/ver_03/data/input_vector/COUNTRYENERGY/week/7/test_w.csv\n",
      "  /Users/JH/Documents/GitHub/PowerForecast/ver_03/data/input_vector/COUNTRYENERGY/day_week/1/train_dw.csv\n",
      "  /Users/JH/Documents/GitHub/PowerForecast/ver_03/data/input_vector/COUNTRYENERGY/day_week/1/test_dw.csv\n",
      "  /Users/JH/Documents/GitHub/PowerForecast/ver_03/data/input_vector/COUNTRYENERGY/day_week/2/train_dw.csv\n",
      "  /Users/JH/Documents/GitHub/PowerForecast/ver_03/data/input_vector/COUNTRYENERGY/day_week/2/test_dw.csv\n",
      "  /Users/JH/Documents/GitHub/PowerForecast/ver_03/data/input_vector/COUNTRYENERGY/day_week/3/train_dw.csv\n",
      "  /Users/JH/Documents/GitHub/PowerForecast/ver_03/data/input_vector/COUNTRYENERGY/day_week/3/test_dw.csv\n",
      "  /Users/JH/Documents/GitHub/PowerForecast/ver_03/data/input_vector/COUNTRYENERGY/day_week/4/train_dw.csv\n",
      "  /Users/JH/Documents/GitHub/PowerForecast/ver_03/data/input_vector/COUNTRYENERGY/day_week/4/test_dw.csv\n",
      "  /Users/JH/Documents/GitHub/PowerForecast/ver_03/data/input_vector/COUNTRYENERGY/day_week/5/train_dw.csv\n",
      "  /Users/JH/Documents/GitHub/PowerForecast/ver_03/data/input_vector/COUNTRYENERGY/day_week/5/test_dw.csv\n",
      "  /Users/JH/Documents/GitHub/PowerForecast/ver_03/data/input_vector/COUNTRYENERGY/day_week/6/train_dw.csv\n",
      "  /Users/JH/Documents/GitHub/PowerForecast/ver_03/data/input_vector/COUNTRYENERGY/day_week/6/test_dw.csv\n",
      "  /Users/JH/Documents/GitHub/PowerForecast/ver_03/data/input_vector/COUNTRYENERGY/day_week/7/train_dw.csv\n",
      "  /Users/JH/Documents/GitHub/PowerForecast/ver_03/data/input_vector/COUNTRYENERGY/day_week/7/test_dw.csv\n",
      "  /Users/JH/Documents/GitHub/PowerForecast/ver_03/data/input_vector/ENERGYAUST/day/1/train_d.csv\n",
      "  /Users/JH/Documents/GitHub/PowerForecast/ver_03/data/input_vector/ENERGYAUST/day/1/test_d.csv\n",
      "  /Users/JH/Documents/GitHub/PowerForecast/ver_03/data/input_vector/ENERGYAUST/day/2/train_d.csv\n",
      "  /Users/JH/Documents/GitHub/PowerForecast/ver_03/data/input_vector/ENERGYAUST/day/2/test_d.csv\n",
      "  /Users/JH/Documents/GitHub/PowerForecast/ver_03/data/input_vector/ENERGYAUST/day/3/train_d.csv\n",
      "  /Users/JH/Documents/GitHub/PowerForecast/ver_03/data/input_vector/ENERGYAUST/day/3/test_d.csv\n",
      "  /Users/JH/Documents/GitHub/PowerForecast/ver_03/data/input_vector/ENERGYAUST/day/4/train_d.csv\n",
      "  /Users/JH/Documents/GitHub/PowerForecast/ver_03/data/input_vector/ENERGYAUST/day/4/test_d.csv\n",
      "  /Users/JH/Documents/GitHub/PowerForecast/ver_03/data/input_vector/ENERGYAUST/day/5/train_d.csv\n",
      "  /Users/JH/Documents/GitHub/PowerForecast/ver_03/data/input_vector/ENERGYAUST/day/5/test_d.csv\n",
      "  /Users/JH/Documents/GitHub/PowerForecast/ver_03/data/input_vector/ENERGYAUST/day/6/train_d.csv\n",
      "  /Users/JH/Documents/GitHub/PowerForecast/ver_03/data/input_vector/ENERGYAUST/day/6/test_d.csv\n",
      "  /Users/JH/Documents/GitHub/PowerForecast/ver_03/data/input_vector/ENERGYAUST/day/7/train_d.csv\n",
      "  /Users/JH/Documents/GitHub/PowerForecast/ver_03/data/input_vector/ENERGYAUST/day/7/test_d.csv\n",
      "  /Users/JH/Documents/GitHub/PowerForecast/ver_03/data/input_vector/ENERGYAUST/week/1/train_w.csv\n",
      "  /Users/JH/Documents/GitHub/PowerForecast/ver_03/data/input_vector/ENERGYAUST/week/1/test_w.csv\n",
      "  /Users/JH/Documents/GitHub/PowerForecast/ver_03/data/input_vector/ENERGYAUST/week/2/train_w.csv\n",
      "  /Users/JH/Documents/GitHub/PowerForecast/ver_03/data/input_vector/ENERGYAUST/week/2/test_w.csv\n",
      "  /Users/JH/Documents/GitHub/PowerForecast/ver_03/data/input_vector/ENERGYAUST/week/3/train_w.csv\n",
      "  /Users/JH/Documents/GitHub/PowerForecast/ver_03/data/input_vector/ENERGYAUST/week/3/test_w.csv\n",
      "  /Users/JH/Documents/GitHub/PowerForecast/ver_03/data/input_vector/ENERGYAUST/week/4/train_w.csv\n",
      "  /Users/JH/Documents/GitHub/PowerForecast/ver_03/data/input_vector/ENERGYAUST/week/4/test_w.csv\n",
      "  /Users/JH/Documents/GitHub/PowerForecast/ver_03/data/input_vector/ENERGYAUST/week/5/train_w.csv\n",
      "  /Users/JH/Documents/GitHub/PowerForecast/ver_03/data/input_vector/ENERGYAUST/week/5/test_w.csv\n",
      "  /Users/JH/Documents/GitHub/PowerForecast/ver_03/data/input_vector/ENERGYAUST/week/6/train_w.csv\n",
      "  /Users/JH/Documents/GitHub/PowerForecast/ver_03/data/input_vector/ENERGYAUST/week/6/test_w.csv\n",
      "  /Users/JH/Documents/GitHub/PowerForecast/ver_03/data/input_vector/ENERGYAUST/week/7/train_w.csv\n",
      "  /Users/JH/Documents/GitHub/PowerForecast/ver_03/data/input_vector/ENERGYAUST/week/7/test_w.csv\n",
      "  /Users/JH/Documents/GitHub/PowerForecast/ver_03/data/input_vector/ENERGYAUST/day_week/1/train_dw.csv\n",
      "  /Users/JH/Documents/GitHub/PowerForecast/ver_03/data/input_vector/ENERGYAUST/day_week/1/test_dw.csv\n",
      "  /Users/JH/Documents/GitHub/PowerForecast/ver_03/data/input_vector/ENERGYAUST/day_week/2/train_dw.csv\n",
      "  /Users/JH/Documents/GitHub/PowerForecast/ver_03/data/input_vector/ENERGYAUST/day_week/2/test_dw.csv\n",
      "  /Users/JH/Documents/GitHub/PowerForecast/ver_03/data/input_vector/ENERGYAUST/day_week/3/train_dw.csv\n",
      "  /Users/JH/Documents/GitHub/PowerForecast/ver_03/data/input_vector/ENERGYAUST/day_week/3/test_dw.csv\n",
      "  /Users/JH/Documents/GitHub/PowerForecast/ver_03/data/input_vector/ENERGYAUST/day_week/4/train_dw.csv\n",
      "  /Users/JH/Documents/GitHub/PowerForecast/ver_03/data/input_vector/ENERGYAUST/day_week/4/test_dw.csv\n",
      "  /Users/JH/Documents/GitHub/PowerForecast/ver_03/data/input_vector/ENERGYAUST/day_week/5/train_dw.csv\n",
      "  /Users/JH/Documents/GitHub/PowerForecast/ver_03/data/input_vector/ENERGYAUST/day_week/5/test_dw.csv\n",
      "  /Users/JH/Documents/GitHub/PowerForecast/ver_03/data/input_vector/ENERGYAUST/day_week/6/train_dw.csv\n",
      "  /Users/JH/Documents/GitHub/PowerForecast/ver_03/data/input_vector/ENERGYAUST/day_week/6/test_dw.csv\n"
     ]
    },
    {
     "name": "stdout",
     "output_type": "stream",
     "text": [
      "  /Users/JH/Documents/GitHub/PowerForecast/ver_03/data/input_vector/ENERGYAUST/day_week/7/train_dw.csv\n",
      "  /Users/JH/Documents/GitHub/PowerForecast/ver_03/data/input_vector/ENERGYAUST/day_week/7/test_dw.csv\n",
      "  /Users/JH/Documents/GitHub/PowerForecast/ver_03/data/input_vector/INTEGRAL/day/1/train_d.csv\n",
      "  /Users/JH/Documents/GitHub/PowerForecast/ver_03/data/input_vector/INTEGRAL/day/1/test_d.csv\n",
      "  /Users/JH/Documents/GitHub/PowerForecast/ver_03/data/input_vector/INTEGRAL/day/2/train_d.csv\n",
      "  /Users/JH/Documents/GitHub/PowerForecast/ver_03/data/input_vector/INTEGRAL/day/2/test_d.csv\n",
      "  /Users/JH/Documents/GitHub/PowerForecast/ver_03/data/input_vector/INTEGRAL/day/3/train_d.csv\n",
      "  /Users/JH/Documents/GitHub/PowerForecast/ver_03/data/input_vector/INTEGRAL/day/3/test_d.csv\n",
      "  /Users/JH/Documents/GitHub/PowerForecast/ver_03/data/input_vector/INTEGRAL/day/4/train_d.csv\n",
      "  /Users/JH/Documents/GitHub/PowerForecast/ver_03/data/input_vector/INTEGRAL/day/4/test_d.csv\n",
      "  /Users/JH/Documents/GitHub/PowerForecast/ver_03/data/input_vector/INTEGRAL/day/5/train_d.csv\n",
      "  /Users/JH/Documents/GitHub/PowerForecast/ver_03/data/input_vector/INTEGRAL/day/5/test_d.csv\n",
      "  /Users/JH/Documents/GitHub/PowerForecast/ver_03/data/input_vector/INTEGRAL/day/6/train_d.csv\n",
      "  /Users/JH/Documents/GitHub/PowerForecast/ver_03/data/input_vector/INTEGRAL/day/6/test_d.csv\n",
      "  /Users/JH/Documents/GitHub/PowerForecast/ver_03/data/input_vector/INTEGRAL/day/7/train_d.csv\n",
      "  /Users/JH/Documents/GitHub/PowerForecast/ver_03/data/input_vector/INTEGRAL/day/7/test_d.csv\n",
      "  /Users/JH/Documents/GitHub/PowerForecast/ver_03/data/input_vector/INTEGRAL/week/1/train_w.csv\n",
      "  /Users/JH/Documents/GitHub/PowerForecast/ver_03/data/input_vector/INTEGRAL/week/1/test_w.csv\n",
      "  /Users/JH/Documents/GitHub/PowerForecast/ver_03/data/input_vector/INTEGRAL/week/2/train_w.csv\n",
      "  /Users/JH/Documents/GitHub/PowerForecast/ver_03/data/input_vector/INTEGRAL/week/2/test_w.csv\n",
      "  /Users/JH/Documents/GitHub/PowerForecast/ver_03/data/input_vector/INTEGRAL/week/3/train_w.csv\n",
      "  /Users/JH/Documents/GitHub/PowerForecast/ver_03/data/input_vector/INTEGRAL/week/3/test_w.csv\n",
      "  /Users/JH/Documents/GitHub/PowerForecast/ver_03/data/input_vector/INTEGRAL/week/4/train_w.csv\n",
      "  /Users/JH/Documents/GitHub/PowerForecast/ver_03/data/input_vector/INTEGRAL/week/4/test_w.csv\n",
      "  /Users/JH/Documents/GitHub/PowerForecast/ver_03/data/input_vector/INTEGRAL/week/5/train_w.csv\n",
      "  /Users/JH/Documents/GitHub/PowerForecast/ver_03/data/input_vector/INTEGRAL/week/5/test_w.csv\n",
      "  /Users/JH/Documents/GitHub/PowerForecast/ver_03/data/input_vector/INTEGRAL/week/6/train_w.csv\n",
      "  /Users/JH/Documents/GitHub/PowerForecast/ver_03/data/input_vector/INTEGRAL/week/6/test_w.csv\n",
      "  /Users/JH/Documents/GitHub/PowerForecast/ver_03/data/input_vector/INTEGRAL/week/7/train_w.csv\n",
      "  /Users/JH/Documents/GitHub/PowerForecast/ver_03/data/input_vector/INTEGRAL/week/7/test_w.csv\n",
      "  /Users/JH/Documents/GitHub/PowerForecast/ver_03/data/input_vector/INTEGRAL/day_week/1/train_dw.csv\n",
      "  /Users/JH/Documents/GitHub/PowerForecast/ver_03/data/input_vector/INTEGRAL/day_week/1/test_dw.csv\n",
      "  /Users/JH/Documents/GitHub/PowerForecast/ver_03/data/input_vector/INTEGRAL/day_week/2/train_dw.csv\n",
      "  /Users/JH/Documents/GitHub/PowerForecast/ver_03/data/input_vector/INTEGRAL/day_week/2/test_dw.csv\n",
      "  /Users/JH/Documents/GitHub/PowerForecast/ver_03/data/input_vector/INTEGRAL/day_week/3/train_dw.csv\n",
      "  /Users/JH/Documents/GitHub/PowerForecast/ver_03/data/input_vector/INTEGRAL/day_week/3/test_dw.csv\n",
      "  /Users/JH/Documents/GitHub/PowerForecast/ver_03/data/input_vector/INTEGRAL/day_week/4/train_dw.csv\n",
      "  /Users/JH/Documents/GitHub/PowerForecast/ver_03/data/input_vector/INTEGRAL/day_week/4/test_dw.csv\n",
      "  /Users/JH/Documents/GitHub/PowerForecast/ver_03/data/input_vector/INTEGRAL/day_week/5/train_dw.csv\n",
      "  /Users/JH/Documents/GitHub/PowerForecast/ver_03/data/input_vector/INTEGRAL/day_week/5/test_dw.csv\n",
      "  /Users/JH/Documents/GitHub/PowerForecast/ver_03/data/input_vector/INTEGRAL/day_week/6/train_dw.csv\n",
      "  /Users/JH/Documents/GitHub/PowerForecast/ver_03/data/input_vector/INTEGRAL/day_week/6/test_dw.csv\n",
      "  /Users/JH/Documents/GitHub/PowerForecast/ver_03/data/input_vector/INTEGRAL/day_week/7/train_dw.csv\n",
      "  /Users/JH/Documents/GitHub/PowerForecast/ver_03/data/input_vector/INTEGRAL/day_week/7/test_dw.csv\n",
      "  /Users/JH/Documents/GitHub/PowerForecast/ver_03/data/input_vector/POWERCOR/day/1/train_d.csv\n",
      "  /Users/JH/Documents/GitHub/PowerForecast/ver_03/data/input_vector/POWERCOR/day/1/test_d.csv\n",
      "  /Users/JH/Documents/GitHub/PowerForecast/ver_03/data/input_vector/POWERCOR/day/2/train_d.csv\n",
      "  /Users/JH/Documents/GitHub/PowerForecast/ver_03/data/input_vector/POWERCOR/day/2/test_d.csv\n",
      "  /Users/JH/Documents/GitHub/PowerForecast/ver_03/data/input_vector/POWERCOR/day/3/train_d.csv\n",
      "  /Users/JH/Documents/GitHub/PowerForecast/ver_03/data/input_vector/POWERCOR/day/3/test_d.csv\n",
      "  /Users/JH/Documents/GitHub/PowerForecast/ver_03/data/input_vector/POWERCOR/day/4/train_d.csv\n",
      "  /Users/JH/Documents/GitHub/PowerForecast/ver_03/data/input_vector/POWERCOR/day/4/test_d.csv\n",
      "  /Users/JH/Documents/GitHub/PowerForecast/ver_03/data/input_vector/POWERCOR/day/5/train_d.csv\n",
      "  /Users/JH/Documents/GitHub/PowerForecast/ver_03/data/input_vector/POWERCOR/day/5/test_d.csv\n",
      "  /Users/JH/Documents/GitHub/PowerForecast/ver_03/data/input_vector/POWERCOR/day/6/train_d.csv\n",
      "  /Users/JH/Documents/GitHub/PowerForecast/ver_03/data/input_vector/POWERCOR/day/6/test_d.csv\n",
      "  /Users/JH/Documents/GitHub/PowerForecast/ver_03/data/input_vector/POWERCOR/day/7/train_d.csv\n",
      "  /Users/JH/Documents/GitHub/PowerForecast/ver_03/data/input_vector/POWERCOR/day/7/test_d.csv\n",
      "  /Users/JH/Documents/GitHub/PowerForecast/ver_03/data/input_vector/POWERCOR/week/1/train_w.csv\n",
      "  /Users/JH/Documents/GitHub/PowerForecast/ver_03/data/input_vector/POWERCOR/week/1/test_w.csv\n",
      "  /Users/JH/Documents/GitHub/PowerForecast/ver_03/data/input_vector/POWERCOR/week/2/train_w.csv\n",
      "  /Users/JH/Documents/GitHub/PowerForecast/ver_03/data/input_vector/POWERCOR/week/2/test_w.csv\n",
      "  /Users/JH/Documents/GitHub/PowerForecast/ver_03/data/input_vector/POWERCOR/week/3/train_w.csv\n",
      "  /Users/JH/Documents/GitHub/PowerForecast/ver_03/data/input_vector/POWERCOR/week/3/test_w.csv\n",
      "  /Users/JH/Documents/GitHub/PowerForecast/ver_03/data/input_vector/POWERCOR/week/4/train_w.csv\n",
      "  /Users/JH/Documents/GitHub/PowerForecast/ver_03/data/input_vector/POWERCOR/week/4/test_w.csv\n",
      "  /Users/JH/Documents/GitHub/PowerForecast/ver_03/data/input_vector/POWERCOR/week/5/train_w.csv\n",
      "  /Users/JH/Documents/GitHub/PowerForecast/ver_03/data/input_vector/POWERCOR/week/5/test_w.csv\n",
      "  /Users/JH/Documents/GitHub/PowerForecast/ver_03/data/input_vector/POWERCOR/week/6/train_w.csv\n",
      "  /Users/JH/Documents/GitHub/PowerForecast/ver_03/data/input_vector/POWERCOR/week/6/test_w.csv\n",
      "  /Users/JH/Documents/GitHub/PowerForecast/ver_03/data/input_vector/POWERCOR/week/7/train_w.csv\n",
      "  /Users/JH/Documents/GitHub/PowerForecast/ver_03/data/input_vector/POWERCOR/week/7/test_w.csv\n",
      "  /Users/JH/Documents/GitHub/PowerForecast/ver_03/data/input_vector/POWERCOR/day_week/1/train_dw.csv\n",
      "  /Users/JH/Documents/GitHub/PowerForecast/ver_03/data/input_vector/POWERCOR/day_week/1/test_dw.csv\n",
      "  /Users/JH/Documents/GitHub/PowerForecast/ver_03/data/input_vector/POWERCOR/day_week/2/train_dw.csv\n",
      "  /Users/JH/Documents/GitHub/PowerForecast/ver_03/data/input_vector/POWERCOR/day_week/2/test_dw.csv\n",
      "  /Users/JH/Documents/GitHub/PowerForecast/ver_03/data/input_vector/POWERCOR/day_week/3/train_dw.csv\n",
      "  /Users/JH/Documents/GitHub/PowerForecast/ver_03/data/input_vector/POWERCOR/day_week/3/test_dw.csv\n",
      "  /Users/JH/Documents/GitHub/PowerForecast/ver_03/data/input_vector/POWERCOR/day_week/4/train_dw.csv\n",
      "  /Users/JH/Documents/GitHub/PowerForecast/ver_03/data/input_vector/POWERCOR/day_week/4/test_dw.csv\n",
      "  /Users/JH/Documents/GitHub/PowerForecast/ver_03/data/input_vector/POWERCOR/day_week/5/train_dw.csv\n",
      "  /Users/JH/Documents/GitHub/PowerForecast/ver_03/data/input_vector/POWERCOR/day_week/5/test_dw.csv\n",
      "  /Users/JH/Documents/GitHub/PowerForecast/ver_03/data/input_vector/POWERCOR/day_week/6/train_dw.csv\n",
      "  /Users/JH/Documents/GitHub/PowerForecast/ver_03/data/input_vector/POWERCOR/day_week/6/test_dw.csv\n",
      "  /Users/JH/Documents/GitHub/PowerForecast/ver_03/data/input_vector/POWERCOR/day_week/7/train_dw.csv\n",
      "  /Users/JH/Documents/GitHub/PowerForecast/ver_03/data/input_vector/POWERCOR/day_week/7/test_dw.csv\n"
     ]
    }
   ],
   "source": [
    "ap.SaveData.input_vector(load_norm, selected_list, weather_norm)"
   ]
  },
  {
   "cell_type": "code",
   "execution_count": 4,
   "metadata": {
    "collapsed": true
   },
   "outputs": [],
   "source": [
    "file_path = '/Users/JH/Documents/GitHub/PowerForecast/ver_03/data/input_vector/ACTEWAGL'"
   ]
  },
  {
   "cell_type": "code",
   "execution_count": null,
   "metadata": {
    "collapsed": true
   },
   "outputs": [],
   "source": []
  },
  {
   "cell_type": "code",
   "execution_count": null,
   "metadata": {
    "collapsed": true
   },
   "outputs": [],
   "source": []
  }
 ],
 "metadata": {
  "kernelspec": {
   "display_name": "Python 2",
   "language": "python",
   "name": "python2"
  },
  "language_info": {
   "codemirror_mode": {
    "name": "ipython",
    "version": 2
   },
   "file_extension": ".py",
   "mimetype": "text/x-python",
   "name": "python",
   "nbconvert_exporter": "python",
   "pygments_lexer": "ipython2",
   "version": "2.7.13"
  }
 },
 "nbformat": 4,
 "nbformat_minor": 2
}
