{
 "cells": [
  {
   "cell_type": "markdown",
   "metadata": {},
   "source": [
    "# Data pre-processing & Save data"
   ]
  },
  {
   "cell_type": "code",
   "execution_count": 1,
   "metadata": {
    "collapsed": true
   },
   "outputs": [],
   "source": [
    "import pandas as pd\n",
    "import numpy as np\n",
    "import matplotlib.pyplot as plt\n",
    "%matplotlib notebook\n",
    "import seaborn as sns\n",
    "\n",
    "import sys\n",
    "sys.path.insert(0, '/Users/JH/Documents/GitHub/PowerForecast/ver_04/util')\n",
    "import app as ap\n",
    "import os.path"
   ]
  },
  {
   "cell_type": "code",
   "execution_count": 2,
   "metadata": {
    "collapsed": true
   },
   "outputs": [],
   "source": [
    "load_data = ap.ReadCSV.load()\n",
    "area_names = sorted(load_data.iterkeys())\n",
    "\n",
    "weather_data = ap.ReadCSV.weather()"
   ]
  },
  {
   "cell_type": "code",
   "execution_count": 3,
   "metadata": {
    "collapsed": true
   },
   "outputs": [],
   "source": [
    "load_norm = dict()\n",
    "for idx in xrange(0, len(area_names)):\n",
    "    area = area_names[idx]\n",
    "    load_norm[area] = ap.Preprocess.normalization_load_data(load_data[area])"
   ]
  },
  {
   "cell_type": "code",
   "execution_count": 4,
   "metadata": {},
   "outputs": [
    {
     "name": "stderr",
     "output_type": "stream",
     "text": [
      "/Users/JH/anaconda2/lib/python2.7/site-packages/sklearn/utils/validation.py:429: DataConversionWarning: Data with input dtype object was converted to float64 by the scale function.\n",
      "  warnings.warn(msg, _DataConversionWarning)\n"
     ]
    }
   ],
   "source": [
    "weather_norm = ap.Preprocess.normalization_weather_data(weather_data)"
   ]
  },
  {
   "cell_type": "code",
   "execution_count": 5,
   "metadata": {},
   "outputs": [
    {
     "data": {
      "text/plain": [
       "(3652, 48)"
      ]
     },
     "execution_count": 5,
     "metadata": {},
     "output_type": "execute_result"
    }
   ],
   "source": [
    "load_norm[area_names[0]].shape"
   ]
  },
  {
   "cell_type": "code",
   "execution_count": 6,
   "metadata": {},
   "outputs": [
    {
     "data": {
      "text/plain": [
       "(3652, 4)"
      ]
     },
     "execution_count": 6,
     "metadata": {},
     "output_type": "execute_result"
    }
   ],
   "source": [
    "weather_norm.shape"
   ]
  },
  {
   "cell_type": "code",
   "execution_count": 7,
   "metadata": {},
   "outputs": [
    {
     "name": "stdout",
     "output_type": "stream",
     "text": [
      "  /Users/JH/Documents/GitHub/PowerForecast/ver_04/data/input_vector/MTLF/ACTEWAGL/train.csv\n",
      "  /Users/JH/Documents/GitHub/PowerForecast/ver_04/data/input_vector/MTLF/ACTEWAGL/test.csv\n",
      "  /Users/JH/Documents/GitHub/PowerForecast/ver_04/data/input_vector/MTLF/CITIPOWER/train.csv\n",
      "  /Users/JH/Documents/GitHub/PowerForecast/ver_04/data/input_vector/MTLF/CITIPOWER/test.csv\n",
      "  /Users/JH/Documents/GitHub/PowerForecast/ver_04/data/input_vector/MTLF/COUNTRYENERGY/train.csv\n",
      "  /Users/JH/Documents/GitHub/PowerForecast/ver_04/data/input_vector/MTLF/COUNTRYENERGY/test.csv\n",
      "  /Users/JH/Documents/GitHub/PowerForecast/ver_04/data/input_vector/MTLF/ENERGYAUST/train.csv\n",
      "  /Users/JH/Documents/GitHub/PowerForecast/ver_04/data/input_vector/MTLF/ENERGYAUST/test.csv\n",
      "  /Users/JH/Documents/GitHub/PowerForecast/ver_04/data/input_vector/MTLF/INTEGRAL/train.csv\n",
      "  /Users/JH/Documents/GitHub/PowerForecast/ver_04/data/input_vector/MTLF/INTEGRAL/test.csv\n",
      "  /Users/JH/Documents/GitHub/PowerForecast/ver_04/data/input_vector/MTLF/POWERCOR/train.csv\n",
      "  /Users/JH/Documents/GitHub/PowerForecast/ver_04/data/input_vector/MTLF/POWERCOR/test.csv\n",
      "  /Users/JH/Documents/GitHub/PowerForecast/ver_04/data/input_vector/MTLF/TXU/train.csv\n",
      "  /Users/JH/Documents/GitHub/PowerForecast/ver_04/data/input_vector/MTLF/TXU/test.csv\n",
      "  /Users/JH/Documents/GitHub/PowerForecast/ver_04/data/input_vector/MTLF/UMPLP/train.csv\n",
      "  /Users/JH/Documents/GitHub/PowerForecast/ver_04/data/input_vector/MTLF/UMPLP/test.csv\n",
      "  /Users/JH/Documents/GitHub/PowerForecast/ver_04/data/input_vector/MTLF/UNITED/train.csv\n",
      "  /Users/JH/Documents/GitHub/PowerForecast/ver_04/data/input_vector/MTLF/UNITED/test.csv\n",
      "  /Users/JH/Documents/GitHub/PowerForecast/ver_04/data/input_vector/MTLF/VICAGL/train.csv\n",
      "  /Users/JH/Documents/GitHub/PowerForecast/ver_04/data/input_vector/MTLF/VICAGL/test.csv\n"
     ]
    }
   ],
   "source": [
    "ap.SaveData.MTLF.input_vector(load_norm, weather_norm)"
   ]
  },
  {
   "cell_type": "code",
   "execution_count": null,
   "metadata": {
    "collapsed": true
   },
   "outputs": [],
   "source": []
  },
  {
   "cell_type": "code",
   "execution_count": null,
   "metadata": {
    "collapsed": true
   },
   "outputs": [],
   "source": []
  }
 ],
 "metadata": {
  "kernelspec": {
   "display_name": "Python 2",
   "language": "python",
   "name": "python2"
  },
  "language_info": {
   "codemirror_mode": {
    "name": "ipython",
    "version": 2
   },
   "file_extension": ".py",
   "mimetype": "text/x-python",
   "name": "python",
   "nbconvert_exporter": "python",
   "pygments_lexer": "ipython2",
   "version": "2.7.13"
  }
 },
 "nbformat": 4,
 "nbformat_minor": 2
}
