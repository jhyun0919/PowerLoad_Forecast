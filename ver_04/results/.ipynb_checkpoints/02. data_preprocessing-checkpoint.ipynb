{
 "cells": [
  {
   "cell_type": "markdown",
   "metadata": {},
   "source": [
    "# Data pre-processing & Save data"
   ]
  },
  {
   "cell_type": "code",
   "execution_count": 1,
   "metadata": {
    "collapsed": true
   },
   "outputs": [],
   "source": [
    "import pandas as pd\n",
    "import numpy as np\n",
    "import matplotlib.pyplot as plt\n",
    "%matplotlib notebook\n",
    "import seaborn as sns\n",
    "\n",
    "import sys\n",
    "sys.path.insert(0, '/Users/JH/Documents/GitHub/PowerForecast/ver_03/util')\n",
    "import app as ap"
   ]
  },
  {
   "cell_type": "code",
   "execution_count": 2,
   "metadata": {
    "collapsed": true
   },
   "outputs": [],
   "source": [
    "load_data = ap.ReadCSV.load()\n",
    "area_names = sorted(load_data.iterkeys())\n",
    "selected_list = [0, 2, 3, 4, 7]\n",
    "\n",
    "weather_data = ap.ReadCSV.weather()"
   ]
  },
  {
   "cell_type": "code",
   "execution_count": 3,
   "metadata": {},
   "outputs": [
    {
     "data": {
      "text/plain": [
       "(3652, 4)"
      ]
     },
     "execution_count": 3,
     "metadata": {},
     "output_type": "execute_result"
    }
   ],
   "source": [
    "weather_data.shape"
   ]
  },
  {
   "cell_type": "code",
   "execution_count": 4,
   "metadata": {},
   "outputs": [],
   "source": [
    "train_input_vector, test_input_vector = ap.DataAllocate.allocator(load_data[area_names[0]], weather_data, 4, ap.DAY)"
   ]
  },
  {
   "cell_type": "code",
   "execution_count": 5,
   "metadata": {},
   "outputs": [
    {
     "data": {
      "text/plain": [
       "(2918, 64)"
      ]
     },
     "execution_count": 5,
     "metadata": {},
     "output_type": "execute_result"
    }
   ],
   "source": [
    "train_input_vector.shape"
   ]
  },
  {
   "cell_type": "code",
   "execution_count": 6,
   "metadata": {},
   "outputs": [
    {
     "data": {
      "text/plain": [
       "(728, 64)"
      ]
     },
     "execution_count": 6,
     "metadata": {},
     "output_type": "execute_result"
    }
   ],
   "source": [
    "test_input_vector.shape"
   ]
  },
  {
   "cell_type": "code",
   "execution_count": 7,
   "metadata": {},
   "outputs": [
    {
     "data": {
      "text/plain": [
       "array([45978.971, 42202.943, 40208.992, 38994.972, 37914.115, 37066.008,\n",
       "       37218.858, 37041.087, 37731.12, 37987.518, 42048.528, 49572.051,\n",
       "       56894.355, 61995.503, 65750.22, 67567.921, 69063.922, 69965.812,\n",
       "       72499.897, 73658.473, 77387.65299999999, 79476.286, 77394.01,\n",
       "       75921.55, 77145.55099999999, 75193.558, 74084.427,\n",
       "       73989.75099999999, 74305.84599999999, 75617.61, 77592.927,\n",
       "       78698.973, 79202.785, 81381.82400000001, 81194.194, 81339.536,\n",
       "       78652.214, 74516.421, 73497.40299999999, 75112.197, 72742.918,\n",
       "       70362.918, 66368.355, 61823.76, 66496.117, 67637.849,\n",
       "       60471.325999999994, 49817.84], dtype=object)"
      ]
     },
     "execution_count": 7,
     "metadata": {},
     "output_type": "execute_result"
    }
   ],
   "source": [
    "train_input_vector[:, :48][0]"
   ]
  },
  {
   "cell_type": "code",
   "execution_count": 8,
   "metadata": {},
   "outputs": [
    {
     "data": {
      "text/plain": [
       "array([21.4, 19.6, 0.0, 6.0, 31.1, 19.3, 0.4, 34.5, 22.2, 19.2, 5.8, 8.9,\n",
       "       44.2, 23.3, 0.0, 34.1], dtype=object)"
      ]
     },
     "execution_count": 8,
     "metadata": {},
     "output_type": "execute_result"
    }
   ],
   "source": [
    "train_input_vector[:, 48:][0]"
   ]
  },
  {
   "cell_type": "code",
   "execution_count": 9,
   "metadata": {},
   "outputs": [
    {
     "name": "stdout",
     "output_type": "stream",
     "text": [
      "ACTEWAGL_train_d4_data.csv saved\n"
     ]
    }
   ],
   "source": [
    "ap.SaveData.elm_based(train_input_vector, area_names[0], 'train', ap.DAY, 4)"
   ]
  },
  {
   "cell_type": "code",
   "execution_count": null,
   "metadata": {
    "collapsed": true
   },
   "outputs": [],
   "source": []
  }
 ],
 "metadata": {
  "kernelspec": {
   "display_name": "Python 2",
   "language": "python",
   "name": "python2"
  },
  "language_info": {
   "codemirror_mode": {
    "name": "ipython",
    "version": 2
   },
   "file_extension": ".py",
   "mimetype": "text/x-python",
   "name": "python",
   "nbconvert_exporter": "python",
   "pygments_lexer": "ipython2",
   "version": "2.7.13"
  }
 },
 "nbformat": 4,
 "nbformat_minor": 2
}
